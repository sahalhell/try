{
 "cells": [
  {
   "cell_type": "code",
   "execution_count": 9,
   "id": "c32321b2-7cc4-49ab-bdac-4ec0430f4486",
   "metadata": {},
   "outputs": [
    {
     "name": "stdout",
     "output_type": "stream",
     "text": [
      "   Serial number Patient Initials Gender  Age (years) Comorbidities  \\\n",
      "0            1.0               AC      M          6.0             N   \n",
      "1           26.0               MA      M          6.0             N   \n",
      "2           62.0               AN      M          6.0             N   \n",
      "3           82.0              HNN      M          6.0             N   \n",
      "4          102.0              TRE      M          6.0             N   \n",
      "\n",
      "  Family history of hypertension History of hypertensive crisis  Weight (Kg)  \\\n",
      "0                              Y                              N         28.0   \n",
      "1                              N                              N         20.0   \n",
      "2                              N                              N         27.0   \n",
      "3                              N                              N         27.0   \n",
      "4                              N                              N         27.0   \n",
      "\n",
      "   Height (metre)  Height (in cm)  ...   SBP3 Mean SBP (not rounded)  \\\n",
      "0            1.15           115.0  ...  112.0                  112.0   \n",
      "1            1.24           124.0  ...   86.0                   88.0   \n",
      "2            1.13           113.0  ...  108.0                  106.0   \n",
      "3            1.13           113.0  ...   88.0                   88.0   \n",
      "4            1.13           113.0  ...   88.0                   90.0   \n",
      "\n",
      "  Mean SBP (Rounded to two digits)  \\\n",
      "0                            112.0   \n",
      "1                             88.0   \n",
      "2                            106.0   \n",
      "3                             88.0   \n",
      "4                             90.0   \n",
      "\n",
      "   According to Fourth report; N=Normal; PH=prehypertensive; H=Hypertensive)  \\\n",
      "0                                                  H                           \n",
      "1                                                  N                           \n",
      "2                                                  N                           \n",
      "3                                                  N                           \n",
      "4                                                  N                           \n",
      "\n",
      "   DBP1  DBP2  DBP3  Mean DBP (not rounded)  Mean DBP (Rounded)  \\\n",
      "0  76.0  76.0  75.0                    75.5                75.5   \n",
      "1  64.0  68.0  64.0                    66.0                66.0   \n",
      "2  64.0  64.0  68.0                    66.0                66.0   \n",
      "3  68.0  68.0  68.0                    68.0                68.0   \n",
      "4  66.0  64.0  64.0                    64.0                64.0   \n",
      "\n",
      "   According to Fourth report; N=Normal; PH=prehypertensive; H=Hypertensive).1  \n",
      "0                                                  H                            \n",
      "1                                                  N                            \n",
      "2                                                  N                            \n",
      "3                                                  N                            \n",
      "4                                                  N                            \n",
      "\n",
      "[5 rows x 31 columns]\n"
     ]
    }
   ],
   "source": [
    "import pandas as pd\n",
    "import random\n",
    "\n",
    "# Load your dataset\n",
    "df = pd.read_csv('augmented_thesis_data.csv')\n",
    "\n",
    "# Filter hypertensive cases\n",
    "hypertensive_df = df[df['According to Fourth report; N=Normal; PH=prehypertensive; H=Hypertensive).1'] == 'H']\n",
    "\n",
    "# Function to augment hypertensive cases\n",
    "def augment_hypertensive_cases(df, target_rows):\n",
    "    augmented_records = []\n",
    "\n",
    "    while len(augmented_records) < target_rows:\n",
    "        row = df.sample(n=1).iloc[0]\n",
    "        new_row = row.copy()\n",
    "\n",
    "        # Randomize age with slight variations\n",
    "        new_row['Age (years)'] = max(0, row['Age (years)'] + random.randint(-1, 1))\n",
    "\n",
    "        # Randomize systolic and diastolic blood pressure values\n",
    "        new_row['SBP3'] = max(120, min(160, row['SBP3'] + random.randint(-5, 5)))\n",
    "        new_row['Mean SBP (not rounded)'] = new_row['SBP3']\n",
    "        new_row['Mean SBP (Rounded to two digits)'] = round(new_row['SBP3'], 1)\n",
    "\n",
    "        new_row['DBP1'] = max(80, min(100, row['DBP1'] + random.randint(-3, 3)))\n",
    "        new_row['DBP2'] = max(80, min(100, row['DBP2'] + random.randint(-3, 3)))\n",
    "        new_row['DBP3'] = max(80, min(100, row['DBP3'] + random.randint(-3, 3)))\n",
    "\n",
    "        # Add slight variations to weight and height to affect BMI\n",
    "        new_row['Weight (Kg)'] = max(10, row['Weight (Kg)'] + random.uniform(-1, 1))\n",
    "        new_row['Height (metre)'] = max(0.5, row['Height (metre)'] + random.uniform(-0.02, 0.02))\n",
    "        new_row['Height (in cm)'] = new_row['Height (metre)'] * 100\n",
    "\n",
    "        # Keep it classified as hypertensive\n",
    "        new_row['According to Fourth report; N=Normal; PH=prehypertensive; H=Hypertensive).1'] = 'H'\n",
    "\n",
    "        augmented_records.append(new_row)\n",
    "\n",
    "    return pd.DataFrame(augmented_records)\n",
    "\n",
    "# Specify how many new hypertensive cases you want to create (e.g., 100 more cases)\n",
    "num_to_augment = 100\n",
    "augmented_hypertensive_df = augment_hypertensive_cases(hypertensive_df, num_to_augment)\n",
    "\n",
    "# Combine original data with augmented hypertensive cases\n",
    "balanced_df = pd.concat([df, augmented_hypertensive_df], ignore_index=True)\n",
    "\n",
    "# Optionally, save the balanced dataset\n",
    "balanced_df.to_csv('balanced_augmented_thesis_data.csv', index=False)\n",
    "\n",
    "# Display the first few rows of the new dataset\n",
    "print(balanced_df.head())\n"
   ]
  },
  {
   "cell_type": "code",
   "execution_count": 11,
   "id": "a2e61bb5-2635-4943-b9dd-5d6959eb93b4",
   "metadata": {},
   "outputs": [
    {
     "name": "stdout",
     "output_type": "stream",
     "text": [
      "Class Distribution after Augmentation:\n",
      "According to Fourth report; N=Normal; PH=prehypertensive; H=Hypertensive).1\n",
      "N      342\n",
      "H      111\n",
      "PH      30\n",
      "PH       1\n",
      "Name: count, dtype: int64\n"
     ]
    }
   ],
   "source": [
    "# Check class distribution\n",
    "class_counts = balanced_df['According to Fourth report; N=Normal; PH=prehypertensive; H=Hypertensive).1'].value_counts()\n",
    "\n",
    "# Display class distribution\n",
    "print(\"Class Distribution after Augmentation:\")\n",
    "print(class_counts)\n"
   ]
  },
  {
   "cell_type": "code",
   "execution_count": 13,
   "id": "04f4194d-69aa-40a6-ba07-756c9d5e7ce0",
   "metadata": {},
   "outputs": [
    {
     "name": "stdout",
     "output_type": "stream",
     "text": [
      "Class Distribution after Fixing Labels:\n",
      "According to Fourth report; N=Normal; PH=prehypertensive; H=Hypertensive).1\n",
      "N     342\n",
      "H     111\n",
      "PH     31\n",
      "Name: count, dtype: int64\n"
     ]
    }
   ],
   "source": [
    "# Clean up the class column by removing leading/trailing spaces and standardizing labels\n",
    "balanced_df['According to Fourth report; N=Normal; PH=prehypertensive; H=Hypertensive).1'] = \\\n",
    "    balanced_df['According to Fourth report; N=Normal; PH=prehypertensive; H=Hypertensive).1'].str.strip()\n",
    "\n",
    "# Check the corrected class distribution\n",
    "class_counts = balanced_df['According to Fourth report; N=Normal; PH=prehypertensive; H=Hypertensive).1'].value_counts()\n",
    "print(\"Class Distribution after Fixing Labels:\")\n",
    "print(class_counts)\n"
   ]
  },
  {
   "cell_type": "code",
   "execution_count": 15,
   "id": "b359c0c1-1e2f-4524-88f0-0562a453249e",
   "metadata": {},
   "outputs": [
    {
     "name": "stdout",
     "output_type": "stream",
     "text": [
      "Class Distribution after Additional Augmentation:\n",
      "According to Fourth report; N=Normal; PH=prehypertensive; H=Hypertensive).1\n",
      "N     342\n",
      "H     211\n",
      "PH     31\n",
      "Name: count, dtype: int64\n"
     ]
    }
   ],
   "source": [
    "# Filter prehypertensive cases\n",
    "prehypertensive_df = balanced_df[balanced_df['According to Fourth report; N=Normal; PH=prehypertensive; H=Hypertensive).1'] == 'PH']\n",
    "\n",
    "# Augment prehypertensive cases\n",
    "num_to_augment_ph = 100  # You can adjust this based on how balanced you want the classes to be\n",
    "augmented_prehypertensive_df = augment_hypertensive_cases(prehypertensive_df, num_to_augment_ph)\n",
    "\n",
    "# Combine the augmented hypertensive and prehypertensive cases with the original dataset\n",
    "balanced_df = pd.concat([balanced_df, augmented_prehypertensive_df], ignore_index=True)\n",
    "\n",
    "# Recheck the class distribution after augmentation\n",
    "class_counts = balanced_df['According to Fourth report; N=Normal; PH=prehypertensive; H=Hypertensive).1'].value_counts()\n",
    "print(\"Class Distribution after Additional Augmentation:\")\n",
    "print(class_counts)\n"
   ]
  },
  {
   "cell_type": "code",
   "execution_count": 17,
   "id": "b28e1980-59e0-45e7-83c5-eeecb9133b0d",
   "metadata": {},
   "outputs": [],
   "source": [
    "# Save the balanced and augmented dataset to a CSV file\n",
    "balanced_df.to_csv('balanced_augmented_thesis_data.csv', index=False)\n"
   ]
  },
  {
   "cell_type": "code",
   "execution_count": 19,
   "id": "78c77a7d-69ea-4152-99fc-99e01115f6a6",
   "metadata": {},
   "outputs": [
    {
     "name": "stdout",
     "output_type": "stream",
     "text": [
      "Class Distribution after Augmentation:\n",
      "According to Fourth report; N=Normal; PH=prehypertensive; H=Hypertensive).1\n",
      "N     342\n",
      "H     111\n",
      "PH     31\n",
      "Name: count, dtype: int64\n"
     ]
    },
    {
     "data": {
      "image/png": "[encoded data removed]",
      "text/plain": [
       "<Figure size 640x480 with 1 Axes>"
      ]
     },
     "metadata": {},
     "output_type": "display_data"
    },
    {
     "name": "stdout",
     "output_type": "stream",
     "text": [
      "Class Distribution after Additional Augmentation:\n",
      "According to Fourth report; N=Normal; PH=prehypertensive; H=Hypertensive).1\n",
      "N     342\n",
      "H     211\n",
      "PH     31\n",
      "Name: count, dtype: int64\n"
     ]
    }
   ],
   "source": [
    "import pandas as pd\n",
    "import random\n",
    "\n",
    "# Set random seed for reproducibility\n",
    "random.seed(42)\n",
    "\n",
    "# Load your dataset\n",
    "df = pd.read_csv('augmented_thesis_data.csv')\n",
    "\n",
    "# Filter hypertensive cases\n",
    "hypertensive_df = df[df['According to Fourth report; N=Normal; PH=prehypertensive; H=Hypertensive).1'] == 'H']\n",
    "\n",
    "# Function to augment hypertensive cases\n",
    "def augment_hypertensive_cases(df, target_rows, age_variation=1, bp_variation=5, weight_variation=1, height_variation=0.02):\n",
    "    augmented_records = []\n",
    "\n",
    "    while len(augmented_records) < target_rows:\n",
    "        row = df.sample(n=1).iloc[0]\n",
    "        new_row = row.copy()\n",
    "\n",
    "        # Randomize age with slight variations\n",
    "        new_row['Age (years)'] = max(0, row['Age (years)'] + random.randint(-age_variation, age_variation))\n",
    "\n",
    "        # Randomize blood pressure values\n",
    "        new_row['SBP3'] = max(120, min(160, row['SBP3'] + random.randint(-bp_variation, bp_variation)))\n",
    "        new_row['Mean SBP (not rounded)'] = new_row['SBP3']\n",
    "        new_row['Mean SBP (Rounded to two digits)'] = round(new_row['SBP3'], 1)\n",
    "\n",
    "        new_row['DBP1'] = max(80, min(100, row['DBP1'] + random.randint(-bp_variation, bp_variation)))\n",
    "        new_row['DBP2'] = max(80, min(100, row['DBP2'] + random.randint(-bp_variation, bp_variation)))\n",
    "        new_row['DBP3'] = max(80, min(100, row['DBP3'] + random.randint(-bp_variation, bp_variation)))\n",
    "\n",
    "        # Add slight variations to weight and height to affect BMI\n",
    "        new_row['Weight (Kg)'] = max(10, row['Weight (Kg)'] + random.uniform(-weight_variation, weight_variation))\n",
    "        new_row['Height (metre)'] = max(0.5, row['Height (metre)'] + random.uniform(-height_variation, height_variation))\n",
    "        new_row['Height (in cm)'] = new_row['Height (metre)'] * 100\n",
    "\n",
    "        # Keep it classified as hypertensive\n",
    "        new_row['According to Fourth report; N=Normal; PH=prehypertensive; H=Hypertensive).1'] = 'H'\n",
    "\n",
    "        augmented_records.append(new_row)\n",
    "\n",
    "    return pd.DataFrame(augmented_records)\n",
    "\n",
    "# Specify how many new hypertensive cases you want to create\n",
    "num_to_augment = 100\n",
    "augmented_hypertensive_df = augment_hypertensive_cases(hypertensive_df, num_to_augment)\n",
    "\n",
    "# Combine original data with augmented hypertensive cases\n",
    "balanced_df = pd.concat([df, augmented_hypertensive_df], ignore_index=True)\n",
    "\n",
    "# Clean up the class column by removing leading/trailing spaces and standardizing labels\n",
    "balanced_df['According to Fourth report; N=Normal; PH=prehypertensive; H=Hypertensive).1'] = \\\n",
    "    balanced_df['According to Fourth report; N=Normal; PH=prehypertensive; H=Hypertensive).1'].str.strip()\n",
    "\n",
    "# Check class distribution after augmentation\n",
    "class_counts = balanced_df['According to Fourth report; N=Normal; PH=prehypertensive; H=Hypertensive).1'].value_counts()\n",
    "print(\"Class Distribution after Augmentation:\")\n",
    "print(class_counts)\n",
    "\n",
    "# Optionally, visualize class distribution\n",
    "import seaborn as sns\n",
    "import matplotlib.pyplot as plt\n",
    "\n",
    "sns.countplot(x='According to Fourth report; N=Normal; PH=prehypertensive; H=Hypertensive).1', data=balanced_df)\n",
    "plt.title(\"Class Distribution\")\n",
    "plt.show()\n",
    "\n",
    "# Filter and augment prehypertensive cases similarly\n",
    "prehypertensive_df = balanced_df[balanced_df['According to Fourth report; N=Normal; PH=prehypertensive; H=Hypertensive).1'] == 'PH']\n",
    "num_to_augment_ph = 100\n",
    "augmented_prehypertensive_df = augment_hypertensive_cases(prehypertensive_df, num_to_augment_ph)\n",
    "\n",
    "# Combine the augmented hypertensive and prehypertensive cases with the original dataset\n",
    "balanced_df = pd.concat([balanced_df, augmented_prehypertensive_df], ignore_index=True)\n",
    "\n",
    "# Recheck the class distribution after additional augmentation\n",
    "class_counts = balanced_df['According to Fourth report; N=Normal; PH=prehypertensive; H=Hypertensive).1'].value_counts()\n",
    "print(\"Class Distribution after Additional Augmentation:\")\n",
    "print(class_counts)\n"
   ]
  },
  {
   "cell_type": "code",
   "execution_count": null,
   "id": "ac680040-e877-486f-a728-4462b117e761",
   "metadata": {},
   "outputs": [],
   "source": []
  }
 ],
 "metadata": {
  "kernelspec": {
   "display_name": "Python 3 (ipykernel)",
   "language": "python",
   "name": "python3"
  },
  "language_info": {
   "codemirror_mode": {
    "name": "ipython",
    "version": 3
   },
   "file_extension": ".py",
   "mimetype": "text/x-python",
   "name": "python",
   "nbconvert_exporter": "python",
   "pygments_lexer": "ipython3",
   "version": "3.12.4"
  }
 },
 "nbformat": 4,
 "nbformat_minor": 5
}

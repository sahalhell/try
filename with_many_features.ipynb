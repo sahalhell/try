{
 "cells": [
  {
   "cell_type": "markdown",
   "id": "690a8ec9-4af9-456f-a4b8-9367251f1814",
   "metadata": {},
   "source": [
    "## Logistic regression"
   ]
  },
  {
   "cell_type": "code",
   "execution_count": 162,
   "id": "36aec6e7-6568-4a7c-a980-4a53376158eb",
   "metadata": {},
   "outputs": [],
   "source": [
    "import pandas as pd\n",
    "import numpy as np\n",
    "from sklearn.model_selection import train_test_split\n",
    "from sklearn.preprocessing import StandardScaler, OneHotEncoder\n",
    "from sklearn.impute import SimpleImputer\n",
    "from sklearn.compose import ColumnTransformer\n",
    "from sklearn.pipeline import Pipeline\n",
    "from sklearn.linear_model import LogisticRegression\n",
    "from sklearn.metrics import classification_report, confusion_matrix\n",
    "from imblearn.over_sampling import SMOTE\n",
    "from sklearn.metrics import roc_curve, roc_auc_score\n",
    "import matplotlib.pyplot as plt\n"
   ]
  },
  {
   "cell_type": "code",
   "execution_count": 163,
   "id": "578cb31f-6195-4874-95ad-68bad2ec7b17",
   "metadata": {},
   "outputs": [],
   "source": [
    "file_path = 'C:\\\\Users\\\\Admin\\\\Downloads\\\\RESEARCH\\\\THESIS.xlsx'\n",
    "data = pd.read_excel(file_path, header=1)"
   ]
  },
  {
   "cell_type": "code",
   "execution_count": 164,
   "id": "159022fd-3c77-4113-8bce-384aba38169c",
   "metadata": {},
   "outputs": [
    {
     "data": {
      "text/html": [
       "<div>\n",
       "<style scoped>\n",
       "    .dataframe tbody tr th:only-of-type {\n",
       "        vertical-align: middle;\n",
       "    }\n",
       "\n",
       "    .dataframe tbody tr th {\n",
       "        vertical-align: top;\n",
       "    }\n",
       "\n",
       "    .dataframe thead th {\n",
       "        text-align: right;\n",
       "    }\n",
       "</style>\n",
       "<table border=\"1\" class=\"dataframe\">\n",
       "  <thead>\n",
       "    <tr style=\"text-align: right;\">\n",
       "      <th></th>\n",
       "      <th>Serial number</th>\n",
       "      <th>Patient Initials</th>\n",
       "      <th>Gender</th>\n",
       "      <th>Age (years)</th>\n",
       "      <th>Comorbidities</th>\n",
       "      <th>Family history of hypertension</th>\n",
       "      <th>History of hypertensive crisis</th>\n",
       "      <th>Weight (Kg)</th>\n",
       "      <th>Height (metre)</th>\n",
       "      <th>Height (in cm)</th>\n",
       "      <th>...</th>\n",
       "      <th>SBP3</th>\n",
       "      <th>Mean SBP (not rounded)</th>\n",
       "      <th>Mean SBP (Rounded to two digits)</th>\n",
       "      <th>According to Fourth report; N=Normal; PH=prehypertensive; H=Hypertensive)</th>\n",
       "      <th>DBP1</th>\n",
       "      <th>DBP2</th>\n",
       "      <th>DBP3</th>\n",
       "      <th>Mean DBP (not rounded)</th>\n",
       "      <th>Mean DBP (Rounded)</th>\n",
       "      <th>According to Fourth report; N=Normal; PH=prehypertensive; H=Hypertensive).1</th>\n",
       "    </tr>\n",
       "  </thead>\n",
       "  <tbody>\n",
       "    <tr>\n",
       "      <th>0</th>\n",
       "      <td>1.0</td>\n",
       "      <td>AC</td>\n",
       "      <td>M</td>\n",
       "      <td>6.0</td>\n",
       "      <td>N</td>\n",
       "      <td>Y</td>\n",
       "      <td>N</td>\n",
       "      <td>28.0</td>\n",
       "      <td>1.15</td>\n",
       "      <td>115.0</td>\n",
       "      <td>...</td>\n",
       "      <td>112.0</td>\n",
       "      <td>112.000000</td>\n",
       "      <td>112.0</td>\n",
       "      <td>H</td>\n",
       "      <td>76.0</td>\n",
       "      <td>76.0</td>\n",
       "      <td>75.0</td>\n",
       "      <td>75.500000</td>\n",
       "      <td>75.5</td>\n",
       "      <td>H</td>\n",
       "    </tr>\n",
       "    <tr>\n",
       "      <th>1</th>\n",
       "      <td>26.0</td>\n",
       "      <td>MA</td>\n",
       "      <td>M</td>\n",
       "      <td>6.0</td>\n",
       "      <td>N</td>\n",
       "      <td>N</td>\n",
       "      <td>N</td>\n",
       "      <td>20.0</td>\n",
       "      <td>1.24</td>\n",
       "      <td>124.0</td>\n",
       "      <td>...</td>\n",
       "      <td>86.0</td>\n",
       "      <td>88.000000</td>\n",
       "      <td>88.0</td>\n",
       "      <td>N</td>\n",
       "      <td>64.0</td>\n",
       "      <td>68.0</td>\n",
       "      <td>64.0</td>\n",
       "      <td>66.000000</td>\n",
       "      <td>66.0</td>\n",
       "      <td>N</td>\n",
       "    </tr>\n",
       "    <tr>\n",
       "      <th>2</th>\n",
       "      <td>62.0</td>\n",
       "      <td>AN</td>\n",
       "      <td>M</td>\n",
       "      <td>6.0</td>\n",
       "      <td>N</td>\n",
       "      <td>N</td>\n",
       "      <td>N</td>\n",
       "      <td>27.0</td>\n",
       "      <td>1.13</td>\n",
       "      <td>113.0</td>\n",
       "      <td>...</td>\n",
       "      <td>108.0</td>\n",
       "      <td>106.000000</td>\n",
       "      <td>106.0</td>\n",
       "      <td>N</td>\n",
       "      <td>64.0</td>\n",
       "      <td>64.0</td>\n",
       "      <td>68.0</td>\n",
       "      <td>66.000000</td>\n",
       "      <td>66.0</td>\n",
       "      <td>N</td>\n",
       "    </tr>\n",
       "    <tr>\n",
       "      <th>3</th>\n",
       "      <td>82.0</td>\n",
       "      <td>HNN</td>\n",
       "      <td>M</td>\n",
       "      <td>6.0</td>\n",
       "      <td>N</td>\n",
       "      <td>N</td>\n",
       "      <td>N</td>\n",
       "      <td>27.0</td>\n",
       "      <td>1.13</td>\n",
       "      <td>113.0</td>\n",
       "      <td>...</td>\n",
       "      <td>88.0</td>\n",
       "      <td>88.000000</td>\n",
       "      <td>88.0</td>\n",
       "      <td>N</td>\n",
       "      <td>68.0</td>\n",
       "      <td>68.0</td>\n",
       "      <td>68.0</td>\n",
       "      <td>68.000000</td>\n",
       "      <td>68.0</td>\n",
       "      <td>N</td>\n",
       "    </tr>\n",
       "    <tr>\n",
       "      <th>4</th>\n",
       "      <td>102.0</td>\n",
       "      <td>TRE</td>\n",
       "      <td>M</td>\n",
       "      <td>6.0</td>\n",
       "      <td>N</td>\n",
       "      <td>N</td>\n",
       "      <td>N</td>\n",
       "      <td>27.0</td>\n",
       "      <td>1.13</td>\n",
       "      <td>113.0</td>\n",
       "      <td>...</td>\n",
       "      <td>88.0</td>\n",
       "      <td>90.000000</td>\n",
       "      <td>90.0</td>\n",
       "      <td>N</td>\n",
       "      <td>66.0</td>\n",
       "      <td>64.0</td>\n",
       "      <td>64.0</td>\n",
       "      <td>64.000000</td>\n",
       "      <td>64.0</td>\n",
       "      <td>N</td>\n",
       "    </tr>\n",
       "    <tr>\n",
       "      <th>...</th>\n",
       "      <td>...</td>\n",
       "      <td>...</td>\n",
       "      <td>...</td>\n",
       "      <td>...</td>\n",
       "      <td>...</td>\n",
       "      <td>...</td>\n",
       "      <td>...</td>\n",
       "      <td>...</td>\n",
       "      <td>...</td>\n",
       "      <td>...</td>\n",
       "      <td>...</td>\n",
       "      <td>...</td>\n",
       "      <td>...</td>\n",
       "      <td>...</td>\n",
       "      <td>...</td>\n",
       "      <td>...</td>\n",
       "      <td>...</td>\n",
       "      <td>...</td>\n",
       "      <td>...</td>\n",
       "      <td>...</td>\n",
       "      <td>...</td>\n",
       "    </tr>\n",
       "    <tr>\n",
       "      <th>386</th>\n",
       "      <td>NaN</td>\n",
       "      <td>NaN</td>\n",
       "      <td>NaN</td>\n",
       "      <td>NaN</td>\n",
       "      <td>NaN</td>\n",
       "      <td>NaN</td>\n",
       "      <td>NaN</td>\n",
       "      <td>NaN</td>\n",
       "      <td>NaN</td>\n",
       "      <td>NaN</td>\n",
       "      <td>...</td>\n",
       "      <td>NaN</td>\n",
       "      <td>NaN</td>\n",
       "      <td>NaN</td>\n",
       "      <td>NaN</td>\n",
       "      <td>NaN</td>\n",
       "      <td>NaN</td>\n",
       "      <td>NaN</td>\n",
       "      <td>NaN</td>\n",
       "      <td>NaN</td>\n",
       "      <td>NaN</td>\n",
       "    </tr>\n",
       "    <tr>\n",
       "      <th>387</th>\n",
       "      <td>NaN</td>\n",
       "      <td>NaN</td>\n",
       "      <td>NaN</td>\n",
       "      <td>NaN</td>\n",
       "      <td>NaN</td>\n",
       "      <td>NaN</td>\n",
       "      <td>NaN</td>\n",
       "      <td>NaN</td>\n",
       "      <td>NaN</td>\n",
       "      <td>NaN</td>\n",
       "      <td>...</td>\n",
       "      <td>NaN</td>\n",
       "      <td>NaN</td>\n",
       "      <td>NaN</td>\n",
       "      <td>NaN</td>\n",
       "      <td>NaN</td>\n",
       "      <td>NaN</td>\n",
       "      <td>NaN</td>\n",
       "      <td>NaN</td>\n",
       "      <td>NaN</td>\n",
       "      <td>NaN</td>\n",
       "    </tr>\n",
       "    <tr>\n",
       "      <th>388</th>\n",
       "      <td>NaN</td>\n",
       "      <td>NaN</td>\n",
       "      <td>NaN</td>\n",
       "      <td>NaN</td>\n",
       "      <td>NaN</td>\n",
       "      <td>NaN</td>\n",
       "      <td>NaN</td>\n",
       "      <td>NaN</td>\n",
       "      <td>NaN</td>\n",
       "      <td>NaN</td>\n",
       "      <td>...</td>\n",
       "      <td>NaN</td>\n",
       "      <td>NaN</td>\n",
       "      <td>NaN</td>\n",
       "      <td>NaN</td>\n",
       "      <td>NaN</td>\n",
       "      <td>NaN</td>\n",
       "      <td>NaN</td>\n",
       "      <td>NaN</td>\n",
       "      <td>NaN</td>\n",
       "      <td>NaN</td>\n",
       "    </tr>\n",
       "    <tr>\n",
       "      <th>389</th>\n",
       "      <td>NaN</td>\n",
       "      <td>NaN</td>\n",
       "      <td>NaN</td>\n",
       "      <td>NaN</td>\n",
       "      <td>NaN</td>\n",
       "      <td>NaN</td>\n",
       "      <td>NaN</td>\n",
       "      <td>NaN</td>\n",
       "      <td>NaN</td>\n",
       "      <td>NaN</td>\n",
       "      <td>...</td>\n",
       "      <td>NaN</td>\n",
       "      <td>98.095052</td>\n",
       "      <td>NaN</td>\n",
       "      <td>NaN</td>\n",
       "      <td>NaN</td>\n",
       "      <td>NaN</td>\n",
       "      <td>NaN</td>\n",
       "      <td>66.402344</td>\n",
       "      <td>NaN</td>\n",
       "      <td>NaN</td>\n",
       "    </tr>\n",
       "    <tr>\n",
       "      <th>390</th>\n",
       "      <td>NaN</td>\n",
       "      <td>NaN</td>\n",
       "      <td>NaN</td>\n",
       "      <td>NaN</td>\n",
       "      <td>NaN</td>\n",
       "      <td>NaN</td>\n",
       "      <td>NaN</td>\n",
       "      <td>NaN</td>\n",
       "      <td>NaN</td>\n",
       "      <td>NaN</td>\n",
       "      <td>...</td>\n",
       "      <td>NaN</td>\n",
       "      <td>10.220585</td>\n",
       "      <td>NaN</td>\n",
       "      <td>NaN</td>\n",
       "      <td>NaN</td>\n",
       "      <td>NaN</td>\n",
       "      <td>NaN</td>\n",
       "      <td>5.648352</td>\n",
       "      <td>NaN</td>\n",
       "      <td>NaN</td>\n",
       "    </tr>\n",
       "  </tbody>\n",
       "</table>\n",
       "<p>391 rows × 31 columns</p>\n",
       "</div>"
      ],
      "text/plain": [
       "     Serial number Patient Initials Gender  Age (years) Comorbidities  \\\n",
       "0              1.0               AC      M          6.0             N   \n",
       "1             26.0               MA      M          6.0             N   \n",
       "2             62.0               AN      M          6.0             N   \n",
       "3             82.0              HNN      M          6.0             N   \n",
       "4            102.0              TRE      M          6.0             N   \n",
       "..             ...              ...    ...          ...           ...   \n",
       "386            NaN              NaN    NaN          NaN           NaN   \n",
       "387            NaN              NaN    NaN          NaN           NaN   \n",
       "388            NaN              NaN    NaN          NaN           NaN   \n",
       "389            NaN              NaN    NaN          NaN           NaN   \n",
       "390            NaN              NaN    NaN          NaN           NaN   \n",
       "\n",
       "    Family history of hypertension History of hypertensive crisis  \\\n",
       "0                                Y                              N   \n",
       "1                                N                              N   \n",
       "2                                N                              N   \n",
       "3                                N                              N   \n",
       "4                                N                              N   \n",
       "..                             ...                            ...   \n",
       "386                            NaN                            NaN   \n",
       "387                            NaN                            NaN   \n",
       "388                            NaN                            NaN   \n",
       "389                            NaN                            NaN   \n",
       "390                            NaN                            NaN   \n",
       "\n",
       "     Weight (Kg)  Height (metre)  Height (in cm)  ...   SBP3  \\\n",
       "0           28.0            1.15           115.0  ...  112.0   \n",
       "1           20.0            1.24           124.0  ...   86.0   \n",
       "2           27.0            1.13           113.0  ...  108.0   \n",
       "3           27.0            1.13           113.0  ...   88.0   \n",
       "4           27.0            1.13           113.0  ...   88.0   \n",
       "..           ...             ...             ...  ...    ...   \n",
       "386          NaN             NaN             NaN  ...    NaN   \n",
       "387          NaN             NaN             NaN  ...    NaN   \n",
       "388          NaN             NaN             NaN  ...    NaN   \n",
       "389          NaN             NaN             NaN  ...    NaN   \n",
       "390          NaN             NaN             NaN  ...    NaN   \n",
       "\n",
       "    Mean SBP (not rounded) Mean SBP (Rounded to two digits)  \\\n",
       "0               112.000000                            112.0   \n",
       "1                88.000000                             88.0   \n",
       "2               106.000000                            106.0   \n",
       "3                88.000000                             88.0   \n",
       "4                90.000000                             90.0   \n",
       "..                     ...                              ...   \n",
       "386                    NaN                              NaN   \n",
       "387                    NaN                              NaN   \n",
       "388                    NaN                              NaN   \n",
       "389              98.095052                              NaN   \n",
       "390              10.220585                              NaN   \n",
       "\n",
       "     According to Fourth report; N=Normal; PH=prehypertensive; H=Hypertensive)  \\\n",
       "0                                                    H                           \n",
       "1                                                    N                           \n",
       "2                                                    N                           \n",
       "3                                                    N                           \n",
       "4                                                    N                           \n",
       "..                                                 ...                           \n",
       "386                                                NaN                           \n",
       "387                                                NaN                           \n",
       "388                                                NaN                           \n",
       "389                                                NaN                           \n",
       "390                                                NaN                           \n",
       "\n",
       "     DBP1  DBP2  DBP3  Mean DBP (not rounded)  Mean DBP (Rounded)  \\\n",
       "0    76.0  76.0  75.0               75.500000                75.5   \n",
       "1    64.0  68.0  64.0               66.000000                66.0   \n",
       "2    64.0  64.0  68.0               66.000000                66.0   \n",
       "3    68.0  68.0  68.0               68.000000                68.0   \n",
       "4    66.0  64.0  64.0               64.000000                64.0   \n",
       "..    ...   ...   ...                     ...                 ...   \n",
       "386   NaN   NaN   NaN                     NaN                 NaN   \n",
       "387   NaN   NaN   NaN                     NaN                 NaN   \n",
       "388   NaN   NaN   NaN                     NaN                 NaN   \n",
       "389   NaN   NaN   NaN               66.402344                 NaN   \n",
       "390   NaN   NaN   NaN                5.648352                 NaN   \n",
       "\n",
       "     According to Fourth report; N=Normal; PH=prehypertensive; H=Hypertensive).1  \n",
       "0                                                    H                            \n",
       "1                                                    N                            \n",
       "2                                                    N                            \n",
       "3                                                    N                            \n",
       "4                                                    N                            \n",
       "..                                                 ...                            \n",
       "386                                                NaN                            \n",
       "387                                                NaN                            \n",
       "388                                                NaN                            \n",
       "389                                                NaN                            \n",
       "390                                                NaN                            \n",
       "\n",
       "[391 rows x 31 columns]"
      ]
     },
     "execution_count": 164,
     "metadata": {},
     "output_type": "execute_result"
    }
   ],
   "source": [
    "data"
   ]
  },
  {
   "cell_type": "code",
   "execution_count": 165,
   "id": "0d5f94c5-6549-4945-a770-e30111ae7cad",
   "metadata": {},
   "outputs": [],
   "source": [
    "columns_to_drop = ['Patient Initials','Comorbidities', \n",
    "                   'History of hypertensive crisis', 'Height (in cm)','Unnamed: 11', 'Unnamed: 12', 'round WHtR', 'round waist-hip ratio',\n",
    "                   'SBP1', 'SBP2', 'SBP3', 'DBP1', 'DBP2', 'DBP3']\n",
    "data = data.drop(columns=columns_to_drop)"
   ]
  },
  {
   "cell_type": "code",
   "execution_count": 166,
   "id": "de8bcad0-8eff-4aae-beb5-1e522655f6fb",
   "metadata": {},
   "outputs": [
    {
     "data": {
      "text/plain": [
       "Index(['Serial number', 'Gender', 'Age (years)',\n",
       "       'Family history of hypertension', 'Weight (Kg)', 'Height (metre)',\n",
       "       'BMI (kg/m2)', 'Hip circumference (cm)', 'Waist circumference (cm)',\n",
       "       'Waist-height ratio', 'Waist-hip ratio', 'Mean SBP (not rounded)',\n",
       "       'Mean SBP (Rounded to two digits)',\n",
       "       'According to Fourth report; N=Normal; PH=prehypertensive; H=Hypertensive)',\n",
       "       'Mean DBP (not rounded)', 'Mean DBP (Rounded)',\n",
       "       'According to Fourth report; N=Normal; PH=prehypertensive; H=Hypertensive).1'],\n",
       "      dtype='object')"
      ]
     },
     "execution_count": 166,
     "metadata": {},
     "output_type": "execute_result"
    }
   ],
   "source": [
    "data.columns"
   ]
  },
  {
   "cell_type": "code",
   "execution_count": 167,
   "id": "f2ddd1e2-bb96-4bfb-be38-5e099312e410",
   "metadata": {},
   "outputs": [],
   "source": [
    "# Select features\n",
    "features = ['Age (years)', 'Weight (Kg)', 'Height (metre)', 'BMI (kg/m2)',\n",
    "            'Hip circumference (cm)', 'Waist circumference (cm)',\n",
    "            'Waist-height ratio', 'Waist-hip ratio', 'Mean SBP (not rounded)',\n",
    "            'Mean DBP (not rounded)', 'Gender', 'Family history of hypertension']"
   ]
  },
  {
   "cell_type": "code",
   "execution_count": 168,
   "id": "77aea220-0643-433c-997e-d12f82438e1e",
   "metadata": {},
   "outputs": [],
   "source": [
    "\n",
    "data['Hypertensive'] = ((data['According to Fourth report; N=Normal; PH=prehypertensive; H=Hypertensive)'] == 'H') | \n",
    "                       ((data['According to Fourth report; N=Normal; PH=prehypertensive; H=Hypertensive).1'] == 'H')).astype(int))"
   ]
  },
  {
   "cell_type": "code",
   "execution_count": 169,
   "id": "2298386d-6596-4c21-bece-1ccbdaa86402",
   "metadata": {},
   "outputs": [],
   "source": [
    "# Drop the original classification columns\n",
    "data = data.drop(columns=['According to Fourth report; N=Normal; PH=prehypertensive; H=Hypertensive)', \n",
    "                          'According to Fourth report; N=Normal; PH=prehypertensive; H=Hypertensive).1'])"
   ]
  },
  {
   "cell_type": "code",
   "execution_count": 170,
   "id": "be531da7-f740-4b71-bf20-feb634652515",
   "metadata": {},
   "outputs": [
    {
     "data": {
      "text/plain": [
       "Hypertensive\n",
       "False    379\n",
       "True      12\n",
       "Name: count, dtype: int64"
      ]
     },
     "execution_count": 170,
     "metadata": {},
     "output_type": "execute_result"
    }
   ],
   "source": [
    "data['Hypertensive'].value_counts()"
   ]
  },
  {
   "cell_type": "code",
   "execution_count": 171,
   "id": "1283f036-5e25-4694-a46e-3a42763cfabd",
   "metadata": {},
   "outputs": [],
   "source": [
    "X = data[features]\n",
    "y = data['Hypertensive']"
   ]
  },
  {
   "cell_type": "code",
   "execution_count": 172,
   "id": "50d456e2-941c-4366-867e-d0bd0b7cf81e",
   "metadata": {},
   "outputs": [
    {
     "data": {
      "text/plain": [
       "0       True\n",
       "1      False\n",
       "2      False\n",
       "3      False\n",
       "4      False\n",
       "       ...  \n",
       "386    False\n",
       "387    False\n",
       "388    False\n",
       "389    False\n",
       "390    False\n",
       "Name: Hypertensive, Length: 391, dtype: bool"
      ]
     },
     "execution_count": 172,
     "metadata": {},
     "output_type": "execute_result"
    }
   ],
   "source": [
    "y"
   ]
  },
  {
   "cell_type": "code",
   "execution_count": 173,
   "id": "1cd0be59-4626-4974-b2d5-c748378a3629",
   "metadata": {},
   "outputs": [],
   "source": [
    "# Identify numeric and categorical columns\n",
    "numeric_features = X.select_dtypes(include=['int64', 'float64']).columns\n",
    "categorical_features = X.select_dtypes(include=['object']).columns"
   ]
  },
  {
   "cell_type": "code",
   "execution_count": 174,
   "id": "286aa417-f3bd-4003-8820-bb6783e1c5e5",
   "metadata": {},
   "outputs": [],
   "source": [
    "# One-hot encode categorical variables\n",
    "X_encoded = pd.get_dummies(X, columns=categorical_features)"
   ]
  },
  {
   "cell_type": "code",
   "execution_count": 175,
   "id": "d5160008-debd-493f-82cf-a9f8158fcfab",
   "metadata": {},
   "outputs": [],
   "source": [
    "##### Create preprocessing steps\n",
    "numeric_transformer = Pipeline(steps=[\n",
    "    ('imputer', SimpleImputer(strategy='median')),\n",
    "    ('scaler', StandardScaler())\n",
    "])\n",
    "\n",
    "categorical_transformer = Pipeline(steps=[\n",
    "    ('imputer', SimpleImputer(strategy='constant', fill_value='missing')),\n",
    "    ('onehot', OneHotEncoder(handle_unknown='ignore'))\n",
    "])\n",
    "\n",
    "preprocessor = ColumnTransformer(\n",
    "    transformers=[\n",
    "        ('num', numeric_transformer, numeric_features),\n",
    "        ('cat', categorical_transformer, categorical_features)\n",
    "    ])"
   ]
  },
  {
   "cell_type": "code",
   "execution_count": 176,
   "id": "fedbc08b-6a3b-436c-b671-ffe63727f971",
   "metadata": {},
   "outputs": [],
   "source": [
    "# Create a preprocessing and modeling pipeline\n",
    "model = Pipeline(steps=[('preprocessor', preprocessor),\n",
    "                        ('classifier', LogisticRegression(random_state=42))])"
   ]
  },
  {
   "cell_type": "code",
   "execution_count": 177,
   "id": "8d0dcec0-fc3e-402e-ab41-0fbaee6f3aae",
   "metadata": {},
   "outputs": [],
   "source": [
    "# Create preprocessor\n",
    "preprocessor = ColumnTransformer(\n",
    "    transformers=[\n",
    "        ('num', SimpleImputer(strategy='median'), numeric_features),\n",
    "        ('cat', OneHotEncoder(handle_unknown='ignore'), categorical_features)\n",
    "    ])\n",
    "\n",
    "# Create a pipeline\n",
    "pipeline = Pipeline([\n",
    "    ('preprocessor', preprocessor),\n",
    "    ('scaler', StandardScaler(with_mean=False))  # with_mean=False to handle sparse matrix from OneHotEncoder\n",
    "])"
   ]
  },
  {
   "cell_type": "code",
   "execution_count": 178,
   "id": "e476f92d-6f58-432e-a311-9735892fe286",
   "metadata": {},
   "outputs": [],
   "source": [
    "#Prepare the data\n",
    "X_prepared = pipeline.fit_transform(X)"
   ]
  },
  {
   "cell_type": "code",
   "execution_count": 179,
   "id": "c1336e0d-e70a-4bc1-a579-ca9ff3370cc4",
   "metadata": {},
   "outputs": [],
   "source": [
    "# Split the data\n",
    "X_train, X_test, y_train, y_test = train_test_split(X_prepared, y, test_size=0.2, random_state=42)"
   ]
  },
  {
   "cell_type": "code",
   "execution_count": null,
   "id": "328cf31e-d53c-4223-885d-d566053c79ed",
   "metadata": {},
   "outputs": [],
   "source": []
  },
  {
   "cell_type": "code",
   "execution_count": 180,
   "id": "b121d697-d7e3-4985-b1a3-44c13cfe18d6",
   "metadata": {},
   "outputs": [],
   "source": [
    "smote = SMOTE(random_state=42)\n",
    "X_train_resampled, y_train_resampled = smote.fit_resample(X_train, y_train)"
   ]
  },
  {
   "cell_type": "code",
   "execution_count": 181,
   "id": "33f56946-c963-48ad-b13e-a7aa6515ea49",
   "metadata": {},
   "outputs": [
    {
     "name": "stdout",
     "output_type": "stream",
     "text": [
      "Hypertensive\n",
      "False    303\n",
      "True     303\n",
      "Name: count, dtype: int64\n"
     ]
    }
   ],
   "source": [
    "# Check class distribution\n",
    "print(y_train_resampled.value_counts())\n"
   ]
  },
  {
   "cell_type": "code",
   "execution_count": 182,
   "id": "5e45679d-9e57-4bec-8375-291e93e68b33",
   "metadata": {},
   "outputs": [
    {
     "name": "stderr",
     "output_type": "stream",
     "text": [
      "C:\\Users\\Admin\\anaconda3\\Lib\\site-packages\\sklearn\\linear_model\\_logistic.py:458: ConvergenceWarning: lbfgs failed to converge (status=1):\n",
      "STOP: TOTAL NO. of ITERATIONS REACHED LIMIT.\n",
      "\n",
      "Increase the number of iterations (max_iter) or scale the data as shown in:\n",
      "    https://scikit-learn.org/stable/modules/preprocessing.html\n",
      "Please also refer to the documentation for alternative solver options:\n",
      "    https://scikit-learn.org/stable/modules/linear_model.html#logistic-regression\n",
      "  n_iter_i = _check_optimize_result(\n"
     ]
    },
    {
     "data": {
      "text/html": [
       "<style>#sk-container-id-6 {color: black;background-color: white;}#sk-container-id-6 pre{padding: 0;}#sk-container-id-6 div.sk-toggleable {background-color: white;}#sk-container-id-6 label.sk-toggleable__label {cursor: pointer;display: block;width: 100%;margin-bottom: 0;padding: 0.3em;box-sizing: border-box;text-align: center;}#sk-container-id-6 label.sk-toggleable__label-arrow:before {content: \"▸\";float: left;margin-right: 0.25em;color: #696969;}#sk-container-id-6 label.sk-toggleable__label-arrow:hover:before {color: black;}#sk-container-id-6 div.sk-estimator:hover label.sk-toggleable__label-arrow:before {color: black;}#sk-container-id-6 div.sk-toggleable__content {max-height: 0;max-width: 0;overflow: hidden;text-align: left;background-color: #f0f8ff;}#sk-container-id-6 div.sk-toggleable__content pre {margin: 0.2em;color: black;border-radius: 0.25em;background-color: #f0f8ff;}#sk-container-id-6 input.sk-toggleable__control:checked~div.sk-toggleable__content {max-height: 200px;max-width: 100%;overflow: auto;}#sk-container-id-6 input.sk-toggleable__control:checked~label.sk-toggleable__label-arrow:before {content: \"▾\";}#sk-container-id-6 div.sk-estimator input.sk-toggleable__control:checked~label.sk-toggleable__label {background-color: #d4ebff;}#sk-container-id-6 div.sk-label input.sk-toggleable__control:checked~label.sk-toggleable__label {background-color: #d4ebff;}#sk-container-id-6 input.sk-hidden--visually {border: 0;clip: rect(1px 1px 1px 1px);clip: rect(1px, 1px, 1px, 1px);height: 1px;margin: -1px;overflow: hidden;padding: 0;position: absolute;width: 1px;}#sk-container-id-6 div.sk-estimator {font-family: monospace;background-color: #f0f8ff;border: 1px dotted black;border-radius: 0.25em;box-sizing: border-box;margin-bottom: 0.5em;}#sk-container-id-6 div.sk-estimator:hover {background-color: #d4ebff;}#sk-container-id-6 div.sk-parallel-item::after {content: \"\";width: 100%;border-bottom: 1px solid gray;flex-grow: 1;}#sk-container-id-6 div.sk-label:hover label.sk-toggleable__label {background-color: #d4ebff;}#sk-container-id-6 div.sk-serial::before {content: \"\";position: absolute;border-left: 1px solid gray;box-sizing: border-box;top: 0;bottom: 0;left: 50%;z-index: 0;}#sk-container-id-6 div.sk-serial {display: flex;flex-direction: column;align-items: center;background-color: white;padding-right: 0.2em;padding-left: 0.2em;position: relative;}#sk-container-id-6 div.sk-item {position: relative;z-index: 1;}#sk-container-id-6 div.sk-parallel {display: flex;align-items: stretch;justify-content: center;background-color: white;position: relative;}#sk-container-id-6 div.sk-item::before, #sk-container-id-6 div.sk-parallel-item::before {content: \"\";position: absolute;border-left: 1px solid gray;box-sizing: border-box;top: 0;bottom: 0;left: 50%;z-index: -1;}#sk-container-id-6 div.sk-parallel-item {display: flex;flex-direction: column;z-index: 1;position: relative;background-color: white;}#sk-container-id-6 div.sk-parallel-item:first-child::after {align-self: flex-end;width: 50%;}#sk-container-id-6 div.sk-parallel-item:last-child::after {align-self: flex-start;width: 50%;}#sk-container-id-6 div.sk-parallel-item:only-child::after {width: 0;}#sk-container-id-6 div.sk-dashed-wrapped {border: 1px dashed gray;margin: 0 0.4em 0.5em 0.4em;box-sizing: border-box;padding-bottom: 0.4em;background-color: white;}#sk-container-id-6 div.sk-label label {font-family: monospace;font-weight: bold;display: inline-block;line-height: 1.2em;}#sk-container-id-6 div.sk-label-container {text-align: center;}#sk-container-id-6 div.sk-container {/* jupyter's `normalize.less` sets `[hidden] { display: none; }` but bootstrap.min.css set `[hidden] { display: none !important; }` so we also need the `!important` here to be able to override the default hidden behavior on the sphinx rendered scikit-learn.org. See: https://github.com/scikit-learn/scikit-learn/issues/21755 */display: inline-block !important;position: relative;}#sk-container-id-6 div.sk-text-repr-fallback {display: none;}</style><div id=\"sk-container-id-6\" class=\"sk-top-container\"><div class=\"sk-text-repr-fallback\"><pre>LogisticRegression(random_state=42)</pre><b>In a Jupyter environment, please rerun this cell to show the HTML representation or trust the notebook. <br />On GitHub, the HTML representation is unable to render, please try loading this page with nbviewer.org.</b></div><div class=\"sk-container\" hidden><div class=\"sk-item\"><div class=\"sk-estimator sk-toggleable\"><input class=\"sk-toggleable__control sk-hidden--visually\" id=\"sk-estimator-id-6\" type=\"checkbox\" checked><label for=\"sk-estimator-id-6\" class=\"sk-toggleable__label sk-toggleable__label-arrow\">LogisticRegression</label><div class=\"sk-toggleable__content\"><pre>LogisticRegression(random_state=42)</pre></div></div></div></div></div>"
      ],
      "text/plain": [
       "LogisticRegression(random_state=42)"
      ]
     },
     "execution_count": 182,
     "metadata": {},
     "output_type": "execute_result"
    }
   ],
   "source": [
    "# Train the model\n",
    "model = LogisticRegression(random_state=42)\n",
    "model.fit(X_train_resampled, y_train_resampled)"
   ]
  },
  {
   "cell_type": "code",
   "execution_count": 183,
   "id": "b680397f-d706-46af-a48e-4da4ce72201c",
   "metadata": {},
   "outputs": [],
   "source": [
    "# Make predictions\n",
    "y_pred = model.predict(X_test)\n",
    "y_pred_prob = model.predict_proba(X_test)[:, 1]\n"
   ]
  },
  {
   "cell_type": "code",
   "execution_count": 184,
   "id": "a383b7fd-a9bb-4e1f-9b0d-3f678278fe46",
   "metadata": {},
   "outputs": [
    {
     "name": "stdout",
     "output_type": "stream",
     "text": [
      "Confusion Matrix:\n",
      "[[68  8]\n",
      " [ 0  3]]\n",
      "\n",
      "Classification Report:\n",
      "              precision    recall  f1-score   support\n",
      "\n",
      "       False       1.00      0.89      0.94        76\n",
      "        True       0.27      1.00      0.43         3\n",
      "\n",
      "    accuracy                           0.90        79\n",
      "   macro avg       0.64      0.95      0.69        79\n",
      "weighted avg       0.97      0.90      0.92        79\n",
      "\n"
     ]
    }
   ],
   "source": [
    "# Print results\n",
    "print(\"Confusion Matrix:\")\n",
    "print(confusion_matrix(y_test, y_pred))\n",
    "print(\"\\nClassification Report:\")\n",
    "print(classification_report(y_test, y_pred))"
   ]
  },
  {
   "cell_type": "code",
   "execution_count": 185,
   "id": "a2601834-86d9-409a-b240-ac54b9aaa667",
   "metadata": {},
   "outputs": [],
   "source": [
    "# Get feature names after preprocessing\n",
    "feature_names = (numeric_features.tolist() + \n",
    "                 pipeline.named_steps['preprocessor']\n",
    "                 .named_transformers_['cat']\n",
    "                 .get_feature_names_out(categorical_features).tolist())\n"
   ]
  },
  {
   "cell_type": "code",
   "execution_count": 186,
   "id": "ead2064d-4ebb-4159-917b-7de2357842f2",
   "metadata": {},
   "outputs": [],
   "source": [
    "# Get feature importances\n",
    "importances = model.coef_[0]\n",
    "feature_importance = pd.DataFrame({'feature': feature_names, 'importance': abs(importances)})\n",
    "feature_importance = feature_importance.sort_values('importance', ascending=False)"
   ]
  },
  {
   "cell_type": "code",
   "execution_count": 187,
   "id": "fc921e0e-4c9f-48f9-9fc4-369b1aee3934",
   "metadata": {},
   "outputs": [
    {
     "name": "stdout",
     "output_type": "stream",
     "text": [
      "\n",
      "Top 10 Feature Importances:\n",
      "                               feature  importance\n",
      "8               Mean SBP (not rounded)    3.178404\n",
      "1                          Weight (Kg)    2.435762\n",
      "0                          Age (years)    2.393267\n",
      "5             Waist circumference (cm)    1.588334\n",
      "9               Mean DBP (not rounded)    1.321919\n",
      "2                       Height (metre)    1.259110\n",
      "7                      Waist-hip ratio    1.122741\n",
      "3                          BMI (kg/m2)    1.035827\n",
      "12                          Gender_nan    0.880164\n",
      "15  Family history of hypertension_nan    0.880164\n"
     ]
    }
   ],
   "source": [
    "print(\"\\nTop 10 Feature Importances:\")\n",
    "print(feature_importance.head(10))"
   ]
  },
  {
   "cell_type": "code",
   "execution_count": 188,
   "id": "c61bfcc7-e91d-4c73-9996-6994e9eaf062",
   "metadata": {},
   "outputs": [
    {
     "data": {
      "image/png": "[encoded data removed]",
      "text/plain": [
       "<Figure size 640x480 with 1 Axes>"
      ]
     },
     "metadata": {},
     "output_type": "display_data"
    }
   ],
   "source": [
    "# ROC Curve\n",
    "fpr, tpr, thresholds = roc_curve(y_test, y_pred_prob)\n",
    "roc_auc = roc_auc_score(y_test, y_pred_prob)\n",
    "\n",
    "plt.figure()\n",
    "plt.plot(fpr, tpr, color='darkorange', lw=2, label=f'ROC curve (area = {roc_auc:.2f})')\n",
    "plt.plot([0, 1], [0, 1], color='navy', lw=2, linestyle='--')\n",
    "plt.xlim([0.0, 1.0])\n",
    "plt.ylim([0.0, 1.05])\n",
    "plt.xlabel('False Positive Rate')\n",
    "plt.ylabel('True Positive Rate')\n",
    "plt.title('Receiver Operating Characteristic')\n",
    "plt.legend(loc=\"lower right\")\n",
    "plt.show()\n"
   ]
  },
  {
   "cell_type": "code",
   "execution_count": 89,
   "id": "676fc5d3-4c9b-48ce-a383-6cf84a70e6b8",
   "metadata": {},
   "outputs": [
    {
     "name": "stdout",
     "output_type": "stream",
     "text": [
      "Confusion Matrix (Training Data):\n",
      "[[296   7]\n",
      " [  0 303]]\n",
      "\n",
      "Classification Report (Training Data):\n",
      "              precision    recall  f1-score   support\n",
      "\n",
      "       False       1.00      0.98      0.99       303\n",
      "        True       0.98      1.00      0.99       303\n",
      "\n",
      "    accuracy                           0.99       606\n",
      "   macro avg       0.99      0.99      0.99       606\n",
      "weighted avg       0.99      0.99      0.99       606\n",
      "\n"
     ]
    }
   ],
   "source": [
    "# Predictions on the balanced training set\n",
    "y_train_pred = model.predict(X_train_resampled)\n",
    "\n",
    "# Confusion Matrix and Classification Report for the training data\n",
    "print(\"Confusion Matrix (Training Data):\")\n",
    "print(confusion_matrix(y_train_resampled, y_train_pred))\n",
    "\n",
    "print(\"\\nClassification Report (Training Data):\")\n",
    "print(classification_report(y_train_resampled, y_train_pred))\n"
   ]
  },
  {
   "cell_type": "code",
   "execution_count": 93,
   "id": "c06481e1-377d-4289-a937-e68a6202cbd0",
   "metadata": {},
   "outputs": [
    {
     "name": "stdout",
     "output_type": "stream",
     "text": [
      "Confusion Matrix with Adjusted Threshold:\n",
      "[[69  7]\n",
      " [ 0  3]]\n",
      "\n",
      "Classification Report with Adjusted Threshold:\n",
      "              precision    recall  f1-score   support\n",
      "\n",
      "       False       1.00      0.91      0.95        76\n",
      "        True       0.30      1.00      0.46         3\n",
      "\n",
      "    accuracy                           0.91        79\n",
      "   macro avg       0.65      0.95      0.71        79\n",
      "weighted avg       0.97      0.91      0.93        79\n",
      "\n"
     ]
    }
   ],
   "source": [
    "# Adjust threshold\n",
    "threshold = 0.6  # Modify this value\n",
    "\n",
    "# Predict based on the threshold\n",
    "y_pred_adjusted = (y_prob >= threshold).astype(int)\n",
    "\n",
    "# Confusion Matrix and Classification Report with adjusted threshold\n",
    "print(\"Confusion Matrix with Adjusted Threshold:\")\n",
    "print(confusion_matrix(y_test, y_pred_adjusted))\n",
    "\n",
    "print(\"\\nClassification Report with Adjusted Threshold:\")\n",
    "print(classification_report(y_test, y_pred_adjusted))\n"
   ]
  },
  {
   "cell_type": "markdown",
   "id": "6486573c-8296-426e-afa0-009ed335cf9b",
   "metadata": {},
   "source": [
    "## Random forest"
   ]
  },
  {
   "cell_type": "code",
   "execution_count": 189,
   "id": "999eb0e1-c096-421b-bfb2-c4bbb6e2ff58",
   "metadata": {},
   "outputs": [
    {
     "name": "stdout",
     "output_type": "stream",
     "text": [
      "Random Forest Results:\n",
      "\n",
      "Confusion Matrix:\n",
      "[[72  4]\n",
      " [ 1  2]]\n",
      "\n",
      "Classification Report:\n",
      "              precision    recall  f1-score   support\n",
      "\n",
      "       False       0.99      0.95      0.97        76\n",
      "        True       0.33      0.67      0.44         3\n",
      "\n",
      "    accuracy                           0.94        79\n",
      "   macro avg       0.66      0.81      0.71        79\n",
      "weighted avg       0.96      0.94      0.95        79\n",
      "\n",
      "\n",
      "Top 10 Feature Importances (Random Forest):\n",
      "                             feature  importance\n",
      "9             Mean DBP (not rounded)    0.307203\n",
      "8             Mean SBP (not rounded)    0.289168\n",
      "14  Family history of hypertension_Y    0.094030\n",
      "13  Family history of hypertension_N    0.084616\n",
      "7                    Waist-hip ratio    0.041100\n",
      "3                        BMI (kg/m2)    0.037961\n",
      "1                        Weight (Kg)    0.033734\n",
      "2                     Height (metre)    0.026866\n",
      "0                        Age (years)    0.022337\n",
      "5           Waist circumference (cm)    0.018171\n"
     ]
    }
   ],
   "source": [
    "from sklearn.ensemble import RandomForestClassifier\n",
    "from sklearn.metrics import classification_report, confusion_matrix\n",
    "import numpy as np\n",
    "\n",
    "# Create a new Random Forest model\n",
    "rf_model = RandomForestClassifier(n_estimators=100, random_state=42)\n",
    "\n",
    "# Fit the Random Forest model directly (without the pipeline)\n",
    "rf_model.fit(X_train_resampled, y_train_resampled)\n",
    "\n",
    "# Make predictions\n",
    "rf_predictions = rf_model.predict(X_test)\n",
    "\n",
    "# Evaluate the model\n",
    "print(\"Random Forest Results:\")\n",
    "print(\"\\nConfusion Matrix:\")\n",
    "print(confusion_matrix(y_test, rf_predictions))\n",
    "print(\"\\nClassification Report:\")\n",
    "print(classification_report(y_test, rf_predictions))\n",
    "\n",
    "# Feature importance for Random Forest\n",
    "feature_names = (numeric_features.tolist() + \n",
    "                 preprocessor.named_transformers_['cat']\n",
    "                 .get_feature_names_out(categorical_features).tolist())\n",
    "\n",
    "importances = rf_model.feature_importances_\n",
    "feature_importance = pd.DataFrame({ 'feature': feature_names, 'importance': importances})\n",
    "feature_importance = feature_importance.sort_values('importance', ascending=False)\n",
    "\n",
    "print(\"\\nTop 10 Feature Importances (Random Forest):\")\n",
    "print(feature_importance.head(10))"
   ]
  },
  {
   "cell_type": "code",
   "execution_count": 191,
   "id": "b5e5b17c-1e41-4355-bbf4-8e76a7add124",
   "metadata": {},
   "outputs": [
    {
     "data": {
      "image/png": "[encoded data removed]",
      "text/plain": [
       "<Figure size 640x480 with 1 Axes>"
      ]
     },
     "metadata": {},
     "output_type": "display_data"
    }
   ],
   "source": [
    "import matplotlib.pyplot as plt\n",
    "from sklearn.metrics import roc_curve, roc_auc_score\n",
    "\n",
    "# Predict the probabilities for the positive class (hypertensive)\n",
    "rf_probabilities = rf_model.predict_proba(X_test)[:, 1]\n",
    "\n",
    "# Compute ROC curve and ROC AUC\n",
    "fpr, tpr, thresholds = roc_curve(y_test, rf_probabilities)\n",
    "roc_auc = roc_auc_score(y_test, rf_probabilities)\n",
    "\n",
    "# Plot ROC curve\n",
    "plt.figure()\n",
    "plt.plot(fpr, tpr, color='darkorange', lw=2, label='ROC curve (area = %0.2f)' % roc_auc)\n",
    "plt.plot([0, 1], [0, 1], color='navy', lw=2, linestyle='--')\n",
    "plt.xlim([0.0, 1.0])\n",
    "plt.ylim([0.0, 1.05])\n",
    "plt.xlabel('False Positive Rate')\n",
    "plt.ylabel('True Positive Rate')\n",
    "plt.title('Receiver Operating Characteristic (ROC) Curve')\n",
    "plt.legend(loc='lower right')\n",
    "plt.show()\n"
   ]
  },
  {
   "cell_type": "markdown",
   "id": "3c8631f6-06fe-4bf6-89a6-ca4f110e75cc",
   "metadata": {},
   "source": [
    "## SVM"
   ]
  },
  {
   "cell_type": "code",
   "execution_count": 192,
   "id": "6b7ffa27-f7d2-4617-9765-fe5a650c65a5",
   "metadata": {},
   "outputs": [],
   "source": [
    "from sklearn.svm import SVC\n",
    "from sklearn.metrics import classification_report, confusion_matrix, roc_curve, roc_auc_score\n",
    "import matplotlib.pyplot as plt\n"
   ]
  },
  {
   "cell_type": "code",
   "execution_count": 193,
   "id": "4911d715-824e-492d-99fc-8ef4275efee2",
   "metadata": {},
   "outputs": [],
   "source": [
    "# Create an SVM model with probability estimates enabled\n",
    "svm_model = SVC(kernel='linear', probability=True, random_state=42)\n",
    "\n",
    "# Fit the SVM model\n",
    "svm_model.fit(X_train_resampled, y_train_resampled)\n",
    "\n",
    "# Make predictions\n",
    "svm_predictions = svm_model.predict(X_test)"
   ]
  },
  {
   "cell_type": "code",
   "execution_count": 194,
   "id": "fab6993f-bf81-486c-9138-02a522cd5d63",
   "metadata": {},
   "outputs": [
    {
     "name": "stdout",
     "output_type": "stream",
     "text": [
      "SVM Results:\n",
      "\n",
      "Confusion Matrix:\n",
      "[[73  3]\n",
      " [ 0  3]]\n",
      "\n",
      "Classification Report:\n",
      "              precision    recall  f1-score   support\n",
      "\n",
      "       False       1.00      0.96      0.98        76\n",
      "        True       0.50      1.00      0.67         3\n",
      "\n",
      "    accuracy                           0.96        79\n",
      "   macro avg       0.75      0.98      0.82        79\n",
      "weighted avg       0.98      0.96      0.97        79\n",
      "\n"
     ]
    }
   ],
   "source": [
    "# Evaluate the model\n",
    "print(\"SVM Results:\")\n",
    "print(\"\\nConfusion Matrix:\")\n",
    "print(confusion_matrix(y_test, svm_predictions))\n",
    "print(\"\\nClassification Report:\")\n",
    "print(classification_report(y_test, svm_predictions))\n"
   ]
  },
  {
   "cell_type": "code",
   "execution_count": 195,
   "id": "0e86abec-3879-4faf-bd18-77dcef82b7ef",
   "metadata": {},
   "outputs": [
    {
     "data": {
      "image/png": "[encoded data removed]",
      "text/plain": [
       "<Figure size 640x480 with 1 Axes>"
      ]
     },
     "metadata": {},
     "output_type": "display_data"
    }
   ],
   "source": [
    "# Predict the probabilities for the positive class (hypertensive)\n",
    "svm_probabilities = svm_model.predict_proba(X_test)[:, 1]\n",
    "\n",
    "# Compute ROC curve and ROC AUC\n",
    "fpr, tpr, thresholds = roc_curve(y_test, svm_probabilities)\n",
    "roc_auc = roc_auc_score(y_test, svm_probabilities)\n",
    "\n",
    "# Plot ROC curve\n",
    "plt.figure()\n",
    "plt.plot(fpr, tpr, color='darkorange', lw=2, label='ROC curve (area = %0.2f)' % roc_auc)\n",
    "plt.plot([0, 1], [0, 1], color='navy', lw=2, linestyle='--')\n",
    "plt.xlim([0.0, 1.0])\n",
    "plt.ylim([0.0, 1.05])\n",
    "plt.xlabel('False Positive Rate')\n",
    "plt.ylabel('True Positive Rate')\n",
    "plt.title('Receiver Operating Characteristic (ROC) Curve - SVM')\n",
    "plt.legend(loc='lower right')\n",
    "plt.show()\n"
   ]
  },
  {
   "cell_type": "markdown",
   "id": "faa72054-7912-412c-8443-38a6f1bc275b",
   "metadata": {},
   "source": [
    "## GRADIENT BOOSTING"
   ]
  },
  {
   "cell_type": "code",
   "execution_count": 196,
   "id": "f53246c9-6f22-49c9-8348-a76640461c09",
   "metadata": {},
   "outputs": [],
   "source": [
    "from sklearn.ensemble import GradientBoostingClassifier\n",
    "from sklearn.metrics import classification_report, confusion_matrix, roc_curve, roc_auc_score\n",
    "import matplotlib.pyplot as plt\n"
   ]
  },
  {
   "cell_type": "code",
   "execution_count": 197,
   "id": "abd21954-f872-467f-bb81-af6f4d6fe4b5",
   "metadata": {},
   "outputs": [],
   "source": [
    "# Create a Gradient Boosting model\n",
    "gb_model = GradientBoostingClassifier(random_state=42)\n",
    "\n",
    "# Fit the Gradient Boosting model\n",
    "gb_model.fit(X_train_resampled, y_train_resampled)\n",
    "\n",
    "# Make predictions\n",
    "gb_predictions = gb_model.predict(X_test)"
   ]
  },
  {
   "cell_type": "code",
   "execution_count": 198,
   "id": "ee6a904c-14cf-46b5-9d73-4486774a334c",
   "metadata": {},
   "outputs": [
    {
     "name": "stdout",
     "output_type": "stream",
     "text": [
      "Gradient Boosting Results:\n",
      "\n",
      "Confusion Matrix:\n",
      "[[75  1]\n",
      " [ 1  2]]\n",
      "\n",
      "Classification Report:\n",
      "              precision    recall  f1-score   support\n",
      "\n",
      "       False       0.99      0.99      0.99        76\n",
      "        True       0.67      0.67      0.67         3\n",
      "\n",
      "    accuracy                           0.97        79\n",
      "   macro avg       0.83      0.83      0.83        79\n",
      "weighted avg       0.97      0.97      0.97        79\n",
      "\n"
     ]
    }
   ],
   "source": [
    "# Evaluate the model\n",
    "print(\"Gradient Boosting Results:\")\n",
    "print(\"\\nConfusion Matrix:\")\n",
    "print(confusion_matrix(y_test, gb_predictions))\n",
    "print(\"\\nClassification Report:\")\n",
    "print(classification_report(y_test, gb_predictions))"
   ]
  },
  {
   "cell_type": "code",
   "execution_count": 199,
   "id": "4e34a4fa-b8db-4d45-b027-5f14cc9fa724",
   "metadata": {},
   "outputs": [
    {
     "data": {
      "image/png": "[encoded data removed]",
      "text/plain": [
       "<Figure size 640x480 with 1 Axes>"
      ]
     },
     "metadata": {},
     "output_type": "display_data"
    }
   ],
   "source": [
    "# Predict the probabilities for the positive class (hypertensive)\n",
    "gb_probabilities = gb_model.predict_proba(X_test)[:, 1]\n",
    "\n",
    "# Compute ROC curve and ROC AUC\n",
    "fpr, tpr, thresholds = roc_curve(y_test, gb_probabilities)\n",
    "roc_auc = roc_auc_score(y_test, gb_probabilities)\n",
    "\n",
    "# Plot ROC curve\n",
    "plt.figure()\n",
    "plt.plot(fpr, tpr, color='darkorange', lw=2, label='ROC curve (area = %0.2f)' % roc_auc)\n",
    "plt.plot([0, 1], [0, 1], color='navy', lw=2, linestyle='--')\n",
    "plt.xlim([0.0, 1.0])\n",
    "plt.ylim([0.0, 1.05])\n",
    "plt.xlabel('False Positive Rate')\n",
    "plt.ylabel('True Positive Rate')\n",
    "plt.title('Receiver Operating Characteristic (ROC) Curve - Gradient Boosting')\n",
    "plt.legend(loc='lower right')\n",
    "plt.show()\n"
   ]
  },
  {
   "cell_type": "markdown",
   "id": "59a30aac-20b5-419c-93b7-675c41931ca0",
   "metadata": {},
   "source": [
    "## XGB CLASSIFIER"
   ]
  },
  {
   "cell_type": "code",
   "execution_count": 200,
   "id": "505292c0-39fb-4208-8bac-31af50d942fc",
   "metadata": {},
   "outputs": [],
   "source": [
    "import xgboost as xgb\n",
    "from sklearn.metrics import classification_report, confusion_matrix, roc_curve, roc_auc_score\n",
    "import matplotlib.pyplot as plt"
   ]
  },
  {
   "cell_type": "code",
   "execution_count": 201,
   "id": "17e27483-23d3-4f35-a40e-bf01f51809a3",
   "metadata": {},
   "outputs": [
    {
     "name": "stderr",
     "output_type": "stream",
     "text": [
      "C:\\Users\\Admin\\anaconda3\\Lib\\site-packages\\xgboost\\core.py:158: UserWarning: [11:18:43] WARNING: C:\\buildkite-agent\\builds\\buildkite-windows-cpu-autoscaling-group-i-0015a694724fa8361-1\\xgboost\\xgboost-ci-windows\\src\\learner.cc:740: \n",
      "Parameters: { \"use_label_encoder\" } are not used.\n",
      "\n",
      "  warnings.warn(smsg, UserWarning)\n"
     ]
    }
   ],
   "source": [
    "# Create an XGBoost model\n",
    "xgb_model = xgb.XGBClassifier(use_label_encoder=False, eval_metric='logloss', random_state=42)\n",
    "\n",
    "# Fit the XGBoost model\n",
    "xgb_model.fit(X_train_resampled, y_train_resampled)\n",
    "\n",
    "# Make predictions\n",
    "xgb_predictions = xgb_model.predict(X_test)"
   ]
  },
  {
   "cell_type": "code",
   "execution_count": 202,
   "id": "d5cd7fa6-8807-4d8c-aae5-1855bfd022f3",
   "metadata": {},
   "outputs": [
    {
     "name": "stdout",
     "output_type": "stream",
     "text": [
      "XGBoost Results:\n",
      "\n",
      "Confusion Matrix:\n",
      "[[75  1]\n",
      " [ 0  3]]\n",
      "\n",
      "Classification Report:\n",
      "              precision    recall  f1-score   support\n",
      "\n",
      "       False       1.00      0.99      0.99        76\n",
      "        True       0.75      1.00      0.86         3\n",
      "\n",
      "    accuracy                           0.99        79\n",
      "   macro avg       0.88      0.99      0.93        79\n",
      "weighted avg       0.99      0.99      0.99        79\n",
      "\n"
     ]
    }
   ],
   "source": [
    "# Evaluate the model\n",
    "print(\"XGBoost Results:\")\n",
    "print(\"\\nConfusion Matrix:\")\n",
    "print(confusion_matrix(y_test, xgb_predictions))\n",
    "print(\"\\nClassification Report:\")\n",
    "print(classification_report(y_test, xgb_predictions))\n"
   ]
  },
  {
   "cell_type": "code",
   "execution_count": 203,
   "id": "e20ddf20-da74-4338-b073-702ba2306989",
   "metadata": {},
   "outputs": [
    {
     "data": {
      "image/png": "[encoded data removed]",
      "text/plain": [
       "<Figure size 640x480 with 1 Axes>"
      ]
     },
     "metadata": {},
     "output_type": "display_data"
    }
   ],
   "source": [
    "# Predict the probabilities for the positive class (hypertensive)\n",
    "xgb_probabilities = xgb_model.predict_proba(X_test)[:, 1]\n",
    "\n",
    "# Compute ROC curve and ROC AUC\n",
    "fpr, tpr, thresholds = roc_curve(y_test, xgb_probabilities)\n",
    "roc_auc = roc_auc_score(y_test, xgb_probabilities)\n",
    "\n",
    "# Plot ROC curve\n",
    "plt.figure()\n",
    "plt.plot(fpr, tpr, color='darkorange', lw=2, label='ROC curve (area = %0.2f)' % roc_auc)\n",
    "plt.plot([0, 1], [0, 1], color='navy', lw=2, linestyle='--')\n",
    "plt.xlim([0.0, 1.0])\n",
    "plt.ylim([0.0, 1.05])\n",
    "plt.xlabel('False Positive Rate')\n",
    "plt.ylabel('True Positive Rate')\n",
    "plt.title('Receiver Operating Characteristic (ROC) Curve - XGBoost')\n",
    "plt.legend(loc='lower right')\n",
    "plt.show()\n"
   ]
  },
  {
   "cell_type": "code",
   "execution_count": null,
   "id": "ff0d12c9-d637-4946-af1c-80104c9e75f9",
   "metadata": {},
   "outputs": [],
   "source": []
  }
 ],
 "metadata": {
  "kernelspec": {
   "display_name": "Python 3 (ipykernel)",
   "language": "python",
   "name": "python3"
  },
  "language_info": {
   "codemirror_mode": {
    "name": "ipython",
    "version": 3
   },
   "file_extension": ".py",
   "mimetype": "text/x-python",
   "name": "python",
   "nbconvert_exporter": "python",
   "pygments_lexer": "ipython3",
   "version": "3.12.4"
  }
 },
 "nbformat": 4,
 "nbformat_minor": 5
}

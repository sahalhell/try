{
 "cells": [
  {
   "cell_type": "code",
   "execution_count": null,
   "id": "27212ef0-0c64-4be6-a974-445387732d62",
   "metadata": {},
   "outputs": [],
   "source": [
    "import pandas as pd\n",
    "import random\n",
    "\n",
    "\n",
    "\n",
    "df = pd.read_csv('C:\\\\Users\\\\Admin\\\\Downloads\\\\RESEARCH\\\\THESIS.xlsx')\n",
    "\n",
    "# Function to create augmented records\n",
    "def augment_data(df, target_rows):\n",
    "    augmented_records = []\n",
    "    \n",
    "    while len(augmented_records) < target_rows:\n",
    "        row = df.sample(n=1).iloc[0]\n",
    "        new_row = row.copy()\n",
    "        \n",
    "        # Randomize age\n",
    "        new_row['AGE'] = max(0, row['AGE'] + random.randint(-5, 5))\n",
    "        \n",
    "        # Randomize gender if applicable\n",
    "        if random.random() < 0.5:\n",
    "            new_row['GENDER'] = random.choice(['male', 'female'])\n",
    "        \n",
    "        # Randomize VAS scores\n",
    "        new_row['VAS DAY 1'] = max(1, min(10, row['VAS DAY 1'] + random.randint(-1, 1)))\n",
    "        new_row['VAS AT DISCHARGE'] = max(1, min(10, row['VAS AT DISCHARGE'] + random.randint(-1, 1)))\n",
    "        \n",
    "        # Add minor variations to other fields\n",
    "        if random.random() < 0.5:\n",
    "            new_row['TYPE OF HERNIA'] = random.choice([\"epigastric\", \"umbilical\", \"incisional\", \"paraumbilical\", \"femoral\"])\n",
    "        if random.random() < 0.5:\n",
    "            new_row['ANESTHESIA'] = random.choice([\"ga\", \"spinal\", \"sa_ea\"])\n",
    "        \n",
    "        augmented_records.append(new_row)\n",
    "    \n",
    "    return pd.DataFrame(augmented_records)\n",
    "\n",
    "# Calculate how many new records are needed\n",
    "num_to_augment = 200 - len(df)  # Assuming you want 200 total records\n",
    "augmented_df = augment_data(df, num_to_augment)\n",
    "\n",
    "# Combine original and augmented data\n",
    "combined_df = pd.concat([df, augmented_df], ignore_index=True)\n",
    "\n",
    "# Reset SNO for the combined dataframe\n",
    "combined_df['SNO'] = range(1, len(combined_df) + 1)\n",
    "\n",
    "# Display the augmented dataset\n",
    "print(combined_df)\n",
    "\n",
    "# Optionally save to a CSV file\n",
    "combined_df.to_csv('augmented_data_1.csv', index=False)"
   ]
  }
 ],
 "metadata": {
  "kernelspec": {
   "display_name": "Python 3 (ipykernel)",
   "language": "python",
   "name": "python3"
  },
  "language_info": {
   "codemirror_mode": {
    "name": "ipython",
    "version": 3
   },
   "file_extension": ".py",
   "mimetype": "text/x-python",
   "name": "python",
   "nbconvert_exporter": "python",
   "pygments_lexer": "ipython3",
   "version": "3.12.4"
  }
 },
 "nbformat": 4,
 "nbformat_minor": 5
}
